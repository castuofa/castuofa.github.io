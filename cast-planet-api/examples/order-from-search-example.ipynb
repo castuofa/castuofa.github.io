{
 "cells": [
  {
   "cell_type": "markdown",
   "id": "f01685732b07f567",
   "metadata": {},
   "source": [
    "# Creating an order for multiple items.\n",
    "\n",
    "Import the DataAPI and OrdersAPI wrapper."
   ]
  },
  {
   "cell_type": "code",
   "execution_count": 1,
   "id": "initial_id",
   "metadata": {
    "ExecuteTime": {
     "end_time": "2024-12-04T16:25:27.857814Z",
     "start_time": "2024-12-04T16:25:27.652752Z"
    },
    "collapsed": true
   },
   "outputs": [],
   "source": [
    "from cast_planet import DataAPI, OrdersApi"
   ]
  },
  {
   "cell_type": "code",
   "execution_count": 2,
   "id": "d7694e9fea478943",
   "metadata": {
    "ExecuteTime": {
     "end_time": "2024-12-04T16:25:27.860741Z",
     "start_time": "2024-12-04T16:25:27.858851Z"
    }
   },
   "outputs": [],
   "source": [
    "data_api = DataAPI(api_key='your-api-key-here')\n",
    "orders_api = OrdersApi(api_key='your-api-key-here')"
   ]
  },
  {
   "cell_type": "markdown",
   "id": "c28b776f4efee5a4",
   "metadata": {},
   "source": [
    "## Searching for items.\n",
    "For this example, we want to get an image for each month, over the UA Farm.\n",
    "To do this, we will modify some the same filters used in the basic example."
   ]
  },
  {
   "cell_type": "code",
   "execution_count": 3,
   "id": "a328a702a47de2cd",
   "metadata": {
    "ExecuteTime": {
     "end_time": "2024-12-04T16:25:27.862832Z",
     "start_time": "2024-12-04T16:25:27.861300Z"
    }
   },
   "outputs": [],
   "source": [
    "from cast_planet.data.filters.field import GeometryFilter, DateRangeFilter\n",
    "from cast_planet.data.filters.logical import AndFilter"
   ]
  },
  {
   "cell_type": "markdown",
   "id": "ef616587b283c8ea",
   "metadata": {},
   "source": [
    "Since the area of interest will not be altered, we can create a single filter."
   ]
  },
  {
   "cell_type": "code",
   "execution_count": 4,
   "id": "9bd2b796f4496c3a",
   "metadata": {
    "ExecuteTime": {
     "end_time": "2024-12-04T16:25:27.865185Z",
     "start_time": "2024-12-04T16:25:27.863453Z"
    }
   },
   "outputs": [],
   "source": [
    "point_of_interest = {\n",
    "    \"type\": \"Point\",\n",
    "    \"coordinates\": [-94.16987610350382, 36.09799882432394]\n",
    "}\n",
    "aoi_filter = GeometryFilter(field_name='geometry', config=point_of_interest)"
   ]
  },
  {
   "cell_type": "markdown",
   "id": "1bf260c92f37fd01",
   "metadata": {},
   "source": [
    "Now, we can create a loop to iterate over each month, create a new date filter and perform the search."
   ]
  },
  {
   "cell_type": "code",
   "execution_count": 5,
   "id": "41da7aca5064edf",
   "metadata": {
    "ExecuteTime": {
     "end_time": "2024-12-04T16:25:30.990620Z",
     "start_time": "2024-12-04T16:25:27.866519Z"
    }
   },
   "outputs": [
    {
     "data": {
      "text/plain": [
       "12"
      ]
     },
     "execution_count": 5,
     "metadata": {},
     "output_type": "execute_result"
    }
   ],
   "source": [
    "full_search_results = []\n",
    "for i in range(1,13):\n",
    "    # Create the date filter\n",
    "    start_time = f'2023-{i:02}-15T00:00'\n",
    "    end_time = f'2023-{i:02}-15T23:59'\n",
    "    date_filter = DateRangeFilter(field_name='acquired', config={'gte': start_time, 'lte': end_time})\n",
    "    \n",
    "    # Combine the date filter with a logic filter\n",
    "    search_filter = AndFilter(config=[aoi_filter,date_filter])\n",
    "    \n",
    "    # Perform the search.\n",
    "    response = data_api.quick_search(item_types=['PSScene'], search_filter=search_filter)\n",
    "    \n",
    "    # Aggregate the search results to a single list.\n",
    "    full_search_results.extend(response.features)\n",
    "\n",
    "# Display the final result count\n",
    "len(full_search_results)\n",
    "    "
   ]
  },
  {
   "cell_type": "markdown",
   "id": "56ed9ceabc943687",
   "metadata": {},
   "source": [
    "## Create an order to request multiple assets at once. \n",
    "We can create an order by sending a list of products that we want to acquire, along with the item type and [product bundle](https://developers.planet.com/apis/orders/product-bundles-reference/) needed.\n",
    "\n",
    "\n",
    "To learn more about creating an order see the [Planet Orders API documentation](https://developers.planet.com/apis/orders/reference/#tag/Orders/operation/createOrder).\n",
    "<br/>\n",
    "To learn more about the CreateOrder data model, please see the package documentation. \n"
   ]
  },
  {
   "cell_type": "code",
   "execution_count": 6,
   "id": "22a0c42ecccb30ce",
   "metadata": {
    "ExecuteTime": {
     "end_time": "2024-12-04T16:25:31.772458Z",
     "start_time": "2024-12-04T16:25:30.992033Z"
    }
   },
   "outputs": [],
   "source": [
    "from cast_planet.orders.models.order_new import CreateOrder\n",
    "\n",
    "order_information = {\n",
    "    \"name\" :f\"Farm Monthly - 2023\",\n",
    "    \"source_type\": 'scenes',\n",
    "    \"order_type\": \"partial\",\n",
    "    \"products\": [\n",
    "        {\n",
    "            \"item_ids\": [x.id for x in full_search_results],\n",
    "            \"item_type\": \"PSScene\",\n",
    "            \"product_bundle\": \"analytic_udm2\",\n",
    "        }\n",
    "    ],\n",
    "    \"notifications\": {\n",
    "        'email': True\n",
    "    }\n",
    "}\n",
    "order = orders_api.create_order(CreateOrder(**order_information))"
   ]
  },
  {
   "cell_type": "markdown",
   "id": "29caf9322e072418",
   "metadata": {},
   "source": [
    "## View order status and download results.\n",
    "Once your order is created, you can see it's updated status by using the get_order_details_by_id method, or you can view your order in the [My Orders](https://www.planet.com/account/#/orders) section of your planet account dashboard."
   ]
  },
  {
   "cell_type": "code",
   "execution_count": 7,
   "id": "45eb49545f02809d",
   "metadata": {
    "ExecuteTime": {
     "end_time": "2024-12-04T16:25:31.961371Z",
     "start_time": "2024-12-04T16:25:31.775034Z"
    }
   },
   "outputs": [],
   "source": [
    "order = orders_api.get_order_details_by_id('5bfa8287-f605-439e-8c55-523a8450f739')"
   ]
  },
  {
   "cell_type": "markdown",
   "id": "ab57ee9b9ab3d17b",
   "metadata": {},
   "source": [
    "Once your order is completed, you can download all the via the api with the download_order_results method. This will download ALL files produced by the order. \n",
    "<br/><br/>\n",
    "If you find that you only want to download some files, or you would like to preview the items beforehand. You may view the order by clicking on order in the My Orders section of the dashboard, or going to https://www.planet.com/account/#/orders/your-order-id-here"
   ]
  },
  {
   "cell_type": "code",
   "execution_count": null,
   "id": "5235d236a142a5ad",
   "metadata": {
    "ExecuteTime": {
     "start_time": "2024-12-04T16:25:31.963584Z"
    },
    "jupyter": {
     "is_executing": true
    }
   },
   "outputs": [
    {
     "name": "stderr",
     "output_type": "stream",
     "text": [
      "order-example/5bfa8287-f605-439e-8c55-523a8450f739/PSScene/20231215_161357_05_2415_3B_udm2.tif: 100%|##########| 6.25M/6.25M [00:00<00:00, 24.1MB/s]\n",
      "order-example/5bfa8287-f605-439e-8c55-523a8450f739/PSScene/20231215_161357_05_2415_3B_AnalyticMS_metadata.xml: 100%|##########| 10.3k/10.3k [00:00<00:00, 10.7MB/s]\n",
      "order-example/5bfa8287-f605-439e-8c55-523a8450f739/PSScene/20231215_161357_05_2415_3B_AnalyticMS.tif: 100%|##########| 494M/494M [00:14<00:00, 35.1MB/s] \n",
      "order-example/5bfa8287-f605-439e-8c55-523a8450f739/PSScene/20231215_161357_05_2415_metadata.json: 100%|##########| 961/961 [00:00<00:00, 10.5MB/s]\n",
      "order-example/5bfa8287-f605-439e-8c55-523a8450f739/PSScene/20231015_160905_18_24a9_3B_udm2.tif: 100%|##########| 5.77M/5.77M [00:00<00:00, 24.4MB/s]\n",
      "order-example/5bfa8287-f605-439e-8c55-523a8450f739/PSScene/20231015_160905_18_24a9_3B_AnalyticMS_metadata.xml: 100%|##########| 10.3k/10.3k [00:00<00:00, 22.7MB/s]\n",
      "order-example/5bfa8287-f605-439e-8c55-523a8450f739/PSScene/20231015_160905_18_24a9_3B_AnalyticMS.tif:  55%|#####5    | 325M/586M [00:09<00:07, 36.3MB/s] "
     ]
    }
   ],
   "source": [
    "orders_api.download_order_results('5bfa8287-f605-439e-8c55-523a8450f739', 'order-example')"
   ]
  }
 ],
 "metadata": {
  "kernelspec": {
   "display_name": "Python 3",
   "language": "python",
   "name": "python3"
  },
  "language_info": {
   "codemirror_mode": {
    "name": "ipython",
    "version": 2
   },
   "file_extension": ".py",
   "mimetype": "text/x-python",
   "name": "python",
   "nbconvert_exporter": "python",
   "pygments_lexer": "ipython2",
   "version": "2.7.6"
  }
 },
 "nbformat": 4,
 "nbformat_minor": 5
}
